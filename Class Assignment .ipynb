{
 "cells": [
  {
   "cell_type": "markdown",
   "metadata": {},
   "source": [
    "# ERROR AND EXCEPTION HANDING"
   ]
  },
  {
   "cell_type": "code",
   "execution_count": 8,
   "metadata": {},
   "outputs": [
    {
     "name": "stdout",
     "output_type": "stream",
     "text": [
      "Enter a number5\n",
      "Enter a number0\n",
      "Exception is caught ZeroDivisionError\n",
      "hellow Exception\n"
     ]
    }
   ],
   "source": [
    "a=int(input(\"Enter a number\"))\n",
    "b=int(input(\"Enter a number\"))\n",
    "try:\n",
    "    c=a/b\n",
    "    print(c)\n",
    "except ZeroDivisionError:\n",
    "    print(\"Exception is caught ZeroDivisionError\")\n",
    "    \n",
    "    print(\"hellow Exception\")"
   ]
  },
  {
   "cell_type": "code",
   "execution_count": 4,
   "metadata": {},
   "outputs": [
    {
     "name": "stdout",
     "output_type": "stream",
     "text": [
      "yeah i have handle this Error\n"
     ]
    }
   ],
   "source": [
    "a=[1,2,3]\n",
    "try:\n",
    "    print(a[4])\n",
    "except IndexError:\n",
    "    print(\"yeah i have handle this Error\")\n",
    "\n",
    "    "
   ]
  },
  {
   "cell_type": "code",
   "execution_count": null,
   "metadata": {},
   "outputs": [],
   "source": [
    "a=int(input(\"Enter a number\"))\n",
    "b=int(input(\"Enter a number\"))\n",
    "d=[]\n",
    "try:\n",
    "    c=a/b\n",
    "    print(c)\n",
    "    print(d[2])\n",
    "except ZeroDivisionError:\n",
    "    print(\"Exception is caught ZeroDivisionError\")\n",
    "print(\"hello word\")\n"
   ]
  },
  {
   "cell_type": "code",
   "execution_count": 1,
   "metadata": {},
   "outputs": [
    {
     "name": "stdout",
     "output_type": "stream",
     "text": [
      "Enter a number5\n",
      "Enter a number5\n",
      "koi bhi Exception is caught\n"
     ]
    }
   ],
   "source": [
    "#a=int(input(\"Enter a number\"))\n",
    "#b=int(input(\"Enter a number\"))\n",
    "d=[]\n",
    "try:\n",
    "    a=int(input(\"Enter a number\"))\n",
    "    b=int(input(\"Enter a number\"))\n",
    "    c=a/b\n",
    "    e=d[5]\n",
    "except          #here we did not explain the type as exception.\n",
    "                  #be used mean is will catch every kind of exce\n",
    "    print(\"koi bhi Exception is caught\")\n",
    "else:\n",
    "        print(c)"
   ]
  },
  {
   "cell_type": "code",
   "execution_count": 3,
   "metadata": {},
   "outputs": [
    {
     "name": "stdout",
     "output_type": "stream",
     "text": [
      "Enter a number4\n",
      "Enter a numbera\n",
      "Handled Error == invalid literal for int() with base 10: 'a'\n"
     ]
    }
   ],
   "source": [
    "d=[]\n",
    "try:\n",
    "    a=int(input(\"Enter a number\"))\n",
    "    b=int(input(\"Enter a number\"))\n",
    "    c=a/b\n",
    "    ee=d[5]\n",
    "except Exception as e:\n",
    "    \n",
    "    print(\"Handled Error == \" +str(e))\n",
    "else:\n",
    "        print(c)"
   ]
  },
  {
   "cell_type": "code",
   "execution_count": 4,
   "metadata": {},
   "outputs": [
    {
     "name": "stdout",
     "output_type": "stream",
     "text": [
      "Enter a number5\n",
      "Enter a numbera\n",
      "Handled Error == invalid literal for int() with base 10: 'a'\n",
      "finally is always run\n"
     ]
    }
   ],
   "source": [
    "d=[]\n",
    "\n",
    "try:\n",
    "    a=int(input(\"Enter a number\"))\n",
    "    b=int(input(\"Enter a number\"))\n",
    "    c=a/b\n",
    "    ee=d[5]\n",
    "except Exception as e:\n",
    "    \n",
    "    print(\"Handled Error == \" +str(e))\n",
    "else:\n",
    "        print(c)\n",
    "finally:\n",
    "    print(\"finally is always run\")"
   ]
  },
  {
   "cell_type": "code",
   "execution_count": 11,
   "metadata": {},
   "outputs": [
    {
     "ename": "IndentationError",
     "evalue": "expected an indented block (<ipython-input-11-2ad1b98f32fe>, line 3)",
     "output_type": "error",
     "traceback": [
      "\u001b[1;36m  File \u001b[1;32m\"<ipython-input-11-2ad1b98f32fe>\"\u001b[1;36m, line \u001b[1;32m3\u001b[0m\n\u001b[1;33m    if age > 80 or age < 16:\u001b[0m\n\u001b[1;37m     ^\u001b[0m\n\u001b[1;31mIndentationError\u001b[0m\u001b[1;31m:\u001b[0m expected an indented block\n"
     ]
    }
   ],
   "source": [
    "class Student():\n",
    "    def  __int__(self,name,age):\n",
    "    if age > 80 or age < 16:\n",
    "            raise Exception(\"age is not greater then 80 and less then 16\")\n",
    "            self.name = name\n",
    "            self.age = age"
   ]
  },
  {
   "cell_type": "code",
   "execution_count": 1,
   "metadata": {},
   "outputs": [
    {
     "name": "stdout",
     "output_type": "stream",
     "text": [
      "Enter student age: 90\n"
     ]
    },
    {
     "ename": "NameError",
     "evalue": "name 'Student' is not defined",
     "output_type": "error",
     "traceback": [
      "\u001b[1;31m---------------------------------------------------------------------------\u001b[0m",
      "\u001b[1;31mNameError\u001b[0m                                 Traceback (most recent call last)",
      "\u001b[1;32m<ipython-input-1-841d32b4fbf8>\u001b[0m in \u001b[0;36m<module>\u001b[1;34m\u001b[0m\n\u001b[0;32m      1\u001b[0m \u001b[0mage\u001b[0m\u001b[1;33m=\u001b[0m\u001b[0mint\u001b[0m\u001b[1;33m(\u001b[0m\u001b[0minput\u001b[0m\u001b[1;33m(\u001b[0m\u001b[1;34m\"Enter student age: \"\u001b[0m\u001b[1;33m)\u001b[0m\u001b[1;33m)\u001b[0m\u001b[1;33m\u001b[0m\u001b[1;33m\u001b[0m\u001b[0m\n\u001b[1;32m----> 2\u001b[1;33m \u001b[0mst\u001b[0m\u001b[1;33m=\u001b[0m\u001b[0mStudent\u001b[0m\u001b[1;33m(\u001b[0m\u001b[1;34m\"ali\"\u001b[0m\u001b[1;33m,\u001b[0m\u001b[0mage\u001b[0m\u001b[1;33m)\u001b[0m\u001b[1;33m\u001b[0m\u001b[1;33m\u001b[0m\u001b[0m\n\u001b[0m\u001b[0;32m      3\u001b[0m \u001b[0mprint\u001b[0m\u001b[1;33m(\u001b[0m\u001b[0mst\u001b[0m\u001b[1;33m.\u001b[0m\u001b[0mage\u001b[0m\u001b[1;33m)\u001b[0m\u001b[1;33m\u001b[0m\u001b[1;33m\u001b[0m\u001b[0m\n",
      "\u001b[1;31mNameError\u001b[0m: name 'Student' is not defined"
     ]
    }
   ],
   "source": [
    "age=int(input(\"Enter student age: \"))\n",
    "st=Student(\"ali\",age)\n",
    "print(st.age)\n"
   ]
  },
  {
   "cell_type": "code",
   "execution_count": null,
   "metadata": {},
   "outputs": [],
   "source": []
  }
 ],
 "metadata": {
  "kernelspec": {
   "display_name": "Python 3",
   "language": "python",
   "name": "python3"
  }
 },
 "nbformat": 4,
 "nbformat_minor": 2
}
